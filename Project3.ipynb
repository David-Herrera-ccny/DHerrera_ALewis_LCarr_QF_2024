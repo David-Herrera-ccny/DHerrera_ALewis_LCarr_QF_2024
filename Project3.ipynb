{
 "cells": [
  {
   "cell_type": "code",
   "execution_count": 1,
   "id": "e1c038dc-9a45-42a2-878b-5eb4f0d39749",
   "metadata": {},
   "outputs": [
    {
     "name": "stdout",
     "output_type": "stream",
     "text": [
      "Error retrieving ETF holdings: Holdings information is unavailable for this ETF.\n",
      "No tickers available. Exiting...\n"
     ]
    }
   ],
   "source": [
    "import yfinance as yf\n",
    "import pandas as pd\n",
    "\n",
    "# Step 1: Get ETF Constituents\n",
    "def get_etf_holdings(etf_ticker):\n",
    "    \"\"\"\n",
    "    Fetch the holdings of the given ETF using yfinance.\n",
    "    \"\"\"\n",
    "    try:\n",
    "        etf = yf.Ticker(etf_ticker)\n",
    "        # Check if 'fund_holdings' attribute exists\n",
    "        if 'fund_holdings' in etf.info:\n",
    "            holdings_data = etf.fund_holdings  # Get holdings information\n",
    "            tickers = list(holdings_data[\"symbol\"])  # Extract stock symbols\n",
    "            print(f\"Successfully retrieved {len(tickers)} holdings for {etf_ticker}.\")\n",
    "            return tickers\n",
    "        else:\n",
    "            raise ValueError(\"Holdings information is unavailable for this ETF.\")\n",
    "    except Exception as e:\n",
    "        print(f\"Error retrieving ETF holdings: {e}\")\n",
    "        return []  # Return an empty list if error occurs\n",
    "\n",
    "# Step 2: Download Historical Data\n",
    "def download_historical_data(tickers, start_date, end_date):\n",
    "    \"\"\"\n",
    "    Download daily adjusted close prices for all tickers in the list.\n",
    "    \"\"\"\n",
    "    if not tickers:\n",
    "        print(\"No tickers provided. Skipping data download.\")\n",
    "        return None\n",
    "\n",
    "    print(f\"Downloading data for {len(tickers)} tickers...\")\n",
    "    try:\n",
    "        # Download historical data for the tickers\n",
    "        data = yf.download(tickers, start=start_date, end=end_date)[\"Adj Close\"]\n",
    "        print(\"Historical data download complete.\")\n",
    "        return data\n",
    "    except Exception as e:\n",
    "        print(f\"Error downloading historical data: {e}\")\n",
    "        return None\n",
    "\n",
    "# Main Execution\n",
    "if __name__ == \"__main__\":\n",
    "    # Parameters\n",
    "    etf_ticker = \"VOO\"  # Vanguard S&P 500 ETF\n",
    "    start_date = \"2018-01-01\"\n",
    "    end_date = \"2023-12-31\"\n",
    "\n",
    "    # Step 1: Get ETF Constituents\n",
    "    tickers = get_etf_holdings(etf_ticker)\n",
    "\n",
    "    if not tickers:\n",
    "        print(\"No tickers available. Exiting...\")\n",
    "    else:\n",
    "        # Limit to 100 tickers for testing (adjust as needed for larger datasets)\n",
    "        tickers = tickers[:100] if len(tickers) > 100 else tickers\n",
    "\n",
    "        # Step 2: Retrieve Historical Data\n",
    "        historical_data = download_historical_data(tickers, start_date, end_date)\n",
    "\n",
    "        # Display a sample of the downloaded data\n",
    "        if historical_data is not None:\n",
    "            print(\"Sample of historical data:\")\n",
    "            print(historical_data.head())\n",
    "        else:\n",
    "            print(\"Failed to retrieve historical data.\")\n",
    "            \n",
    "monthly_data = data.resample('M').last()  # Use last trading day of each month\n",
    "monthly_returns = monthly_data.pct_change().dropna()\n",
    "momentum_factors = monthly_data.pct_change(periods=12).shift(-1)\n",
    "z_factors = ((momentum_factors - momentum_factors.mean()) / momentum_factors.std()).sum(\n",
    "    axis=1\n",
    ")\n",
    "\n",
    "def price_facotrs(self):\n",
    "    \n"
   ]
  },
  {
   "cell_type": "code",
   "execution_count": null,
   "id": "acbd60fc-1110-4a6e-add4-0d30291cbb47",
   "metadata": {},
   "outputs": [],
   "source": []
  }
 ],
 "metadata": {
  "kernelspec": {
   "display_name": "Python 3 (ipykernel)",
   "language": "python",
   "name": "python3"
  },
  "language_info": {
   "codemirror_mode": {
    "name": "ipython",
    "version": 3
   },
   "file_extension": ".py",
   "mimetype": "text/x-python",
   "name": "python",
   "nbconvert_exporter": "python",
   "pygments_lexer": "ipython3",
   "version": "3.9.7"
  }
 },
 "nbformat": 4,
 "nbformat_minor": 5
}
